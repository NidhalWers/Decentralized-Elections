{
 "cells": [
  {
   "cell_type": "code",
   "execution_count": 58,
   "metadata": {},
   "outputs": [
    {
     "name": "stdout",
     "output_type": "stream",
     "text": [
      "key : b'\\x1d\\x8cG\\xb8\\t\\xb5\\xed\\xd7\\xda\\xcf\\x90%~\\x1a\\xa9\\xc8\\x94\\xddt\\x94\\x08\\xe9\\x91\\xa1\\x88\\x10\\x8c\\x82\\xcc~\\x9bA'\n",
      "nonce : b'\\xd4\\x0c4\\xd7\\xb9^\\x8cu\\xe4\\x92\\x8c\\x0b'\n"
     ]
    }
   ],
   "source": [
    "from cryptography.fernet import Fernet\n",
    "from cryptography.hazmat.primitives.ciphers import Cipher, algorithms, modes\n",
    "from cryptography.hazmat.primitives.ciphers.aead import AESGCM\n",
    "from cryptography.hazmat.primitives import hashes\n",
    "from cryptography.hazmat.primitives.kdf.pbkdf2 import PBKDF2HMAC\n",
    "from os import urandom\n",
    "\n",
    "# Generate a random salt for PBKDF2 key derivation function\n",
    "salt = urandom(16)\n",
    "\n",
    "# Derive a 256-bit encryption key using PBKDF2\n",
    "password = b\"mysecretkey\"\n",
    "kdf = PBKDF2HMAC(\n",
    "    algorithm=hashes.SHA256(),\n",
    "    length=32,\n",
    "    salt=salt,\n",
    "    iterations=100000,\n",
    ")\n",
    "key = kdf.derive(password)\n",
    "\n",
    "# Encrypt a message\n",
    "nonce = urandom(12)\n",
    "\n",
    "print('key : ' + str(key))\n",
    "print('nonce : ' + str(nonce))"
   ]
  },
  {
   "cell_type": "code",
   "execution_count": 60,
   "metadata": {},
   "outputs": [],
   "source": [
    "with open(\"keyfile.bin\", \"wb\") as f:\n",
    "    f.write(key)\n",
    "    f.write(nonce)\n"
   ]
  },
  {
   "cell_type": "code",
   "execution_count": 61,
   "metadata": {},
   "outputs": [],
   "source": [
    "# Load the key and nonce from the file\n",
    "with open(\"keyfile.bin\", \"rb\") as f:\n",
    "    key = f.read(32)\n",
    "    nonce = f.read(12)"
   ]
  },
  {
   "cell_type": "code",
   "execution_count": 65,
   "metadata": {},
   "outputs": [
    {
     "name": "stdout",
     "output_type": "stream",
     "text": [
      "b'A\\xa6\\x89\\xbf\\x1e\\xe4\\xe4\\xc4b\\xbaZ\\x04\\x87\\xc2\\x8fo'\n"
     ]
    }
   ],
   "source": [
    "id = 3\n",
    "plaintext = id.to_bytes(16, byteorder='big')\n",
    "cipher = Cipher(algorithms.AES(key), modes.GCM(nonce))\n",
    "encryptor = cipher.encryptor()\n",
    "ciphertext = encryptor.update(plaintext) + encryptor.finalize()\n",
    "tag = encryptor.tag\n",
    "print(tag)"
   ]
  },
  {
   "cell_type": "code",
   "execution_count": null,
   "metadata": {},
   "outputs": [],
   "source": [
    "# Decrypt the ciphertext\n",
    "cipher = Cipher(algorithms.AES(key), modes.GCM(nonce, tag))\n",
    "decryptor = cipher.decryptor()\n",
    "decrypted_plaintext = decryptor.update(ciphertext) + decryptor.finalize()\n",
    "\n",
    "# Print the results\n",
    "print(f\"Key: {key}\")\n",
    "print(f\"Nonce: {nonce}\")\n",
    "print(f\"Ciphertext: {ciphertext}\")\n",
    "print(f\"Decrypted plaintext: {decrypted_plaintext}\")\n",
    "\n",
    "# Encrypt the same plaintext again with the same key and nonce\n",
    "cipher = Cipher(algorithms.AES(key), modes.GCM(nonce))\n",
    "encryptor = cipher.encryptor()\n",
    "ciphertext2 = encryptor.update(plaintext) + encryptor.finalize()\n",
    "tag2 = encryptor.tag\n",
    "\n",
    "# Decrypt the second ciphertext using the same nonce and key\n",
    "cipher = Cipher(algorithms.AES(key), modes.GCM(nonce, tag2))\n",
    "decryptor = cipher.decryptor()\n",
    "decrypted_plaintext2 = decryptor.update(ciphertext2) + decryptor.finalize()\n",
    "\n",
    "# Print the second ciphertext and decrypted plaintext\n",
    "print(f\"Ciphertext 2: {ciphertext2}\")\n",
    "print(f\"Decrypted plaintext 2: {decrypted_plaintext2}\")"
   ]
  },
  {
   "cell_type": "code",
   "execution_count": 66,
   "metadata": {},
   "outputs": [],
   "source": [
    "import hashlib\n",
    "import base64\n",
    "\n",
    "def num_to_random_string(num):\n",
    "    # Convert number to bytes\n",
    "    num_bytes = str(num).encode('utf-8')\n",
    "\n",
    "    # Generate hash value\n",
    "    hash_object = hashlib.sha256(num_bytes)\n",
    "    hash_bytes = hash_object.digest()\n",
    "\n",
    "    # Encode hash value as base64 string\n",
    "    random_string = base64.b64encode(hash_bytes).decode('utf-8')\n",
    "\n",
    "    return random_string"
   ]
  },
  {
   "cell_type": "code",
   "execution_count": 73,
   "metadata": {},
   "outputs": [
    {
     "data": {
      "text/plain": [
       "'TNcr8D0FB0K+bNoK4DVLx3qXvh9LgRf+iTGhEUWY9fg='"
      ]
     },
     "execution_count": 73,
     "metadata": {},
     "output_type": "execute_result"
    }
   ],
   "source": [
    "num_to_random_string(\"fzfezfz\")"
   ]
  }
 ],
 "metadata": {
  "kernelspec": {
   "display_name": "base",
   "language": "python",
   "name": "python3"
  },
  "language_info": {
   "codemirror_mode": {
    "name": "ipython",
    "version": 3
   },
   "file_extension": ".py",
   "mimetype": "text/x-python",
   "name": "python",
   "nbconvert_exporter": "python",
   "pygments_lexer": "ipython3",
   "version": "3.9.12"
  },
  "orig_nbformat": 4,
  "vscode": {
   "interpreter": {
    "hash": "5c6a328c3dae7a0c12012862982ee9605db1881d32a9f60b075ff1e1dc4cc909"
   }
  }
 },
 "nbformat": 4,
 "nbformat_minor": 2
}
